{
 "cells": [
  {
   "cell_type": "code",
   "execution_count": 37,
   "metadata": {},
   "outputs": [],
   "source": [
    "import string\n",
    "import pandas as pd\n",
    "import numpy as np\n",
    "from nltk.corpus import stopwords\n",
    "from sklearn.pipeline import Pipeline\n",
    "from sklearn.feature_extraction.text import TfidfVectorizer\n",
    "from sklearn.naive_bayes import MultinomialNB\n",
    "from sklearn.linear_model import LinearRegression\n",
    "from sklearn.cross_validation import train_test_split\n",
    "\n",
    "import plotly\n",
    "import plotly.plotly as py\n",
    "import plotly.graph_objs as go\n",
    "from plotly import tools\n",
    "from plotly.offline import init_notebook_mode\n",
    "\n",
    "plotly.tools.set_credentials_file(username='shresthamanjil21', api_key='LhGoc8Zt7yNBNWCNOZtc')\n",
    "plotly.tools.set_config_file(world_readable=True, sharing='public')"
   ]
  },
  {
   "cell_type": "code",
   "execution_count": 38,
   "metadata": {},
   "outputs": [],
   "source": [
    "train_datas = pd.read_csv('train.tsv', sep='\\t')\n",
    "test_datas = pd.read_csv('test.tsv', sep='\\t')\n",
    "\n",
    "X = train_datas['Phrase']\n",
    "y = train_datas['Sentiment']"
   ]
  },
  {
   "cell_type": "code",
   "execution_count": 39,
   "metadata": {},
   "outputs": [],
   "source": [
    "#train_datas = train_datas[(train_datas['Sentiment'] == 0) | (train_datas['Sentiment'] == 2) | (train_datas['Sentiment'] == 4)][['Phrase', 'Sentiment']]"
   ]
  },
  {
   "cell_type": "code",
   "execution_count": 40,
   "metadata": {},
   "outputs": [],
   "source": [
    "X_train, X_test, y_train, y_test = train_test_split(X, y, test_size=0.25, random_state=33)"
   ]
  },
  {
   "cell_type": "code",
   "execution_count": 41,
   "metadata": {},
   "outputs": [],
   "source": [
    "def train(classifier, X_train, X_test, y_train, y_test):         \n",
    "    classifier.fit(X_train, y_train)    \n",
    "    return classifier"
   ]
  },
  {
   "cell_type": "code",
   "execution_count": 43,
   "metadata": {},
   "outputs": [
    {
     "name": "stdout",
     "output_type": "stream",
     "text": [
      "Accuracy nb: 0.600717672689991\n"
     ]
    }
   ],
   "source": [
    "trial1 = Pipeline([\n",
    "    ('vectorizer', TfidfVectorizer(stop_words=stopwords.words('english') + list(string.punctuation))),\n",
    "    ('classifier', MultinomialNB(alpha=0.05))\n",
    "])\n",
    "\n",
    "clf = train(trial1, X_train, X_test, y_train, y_test)\n",
    "\n",
    "nb_score = clf.score(X_test, y_test)\n",
    "print (\"Accuracy nb: %s\" % nb_score)"
   ]
  },
  {
   "cell_type": "code",
   "execution_count": 44,
   "metadata": {},
   "outputs": [
    {
     "name": "stdout",
     "output_type": "stream",
     "text": [
      "Accuracy lg: 0.42839806728504004\n"
     ]
    }
   ],
   "source": [
    "trial2 = Pipeline([\n",
    "    ('vectorizer', TfidfVectorizer(stop_words=stopwords.words('english') + list(string.punctuation))),\n",
    "    ('classifier', LinearRegression())\n",
    "])\n",
    "\n",
    "l_clf = train(trial1, X_train, X_test, y_train, y_test)\n",
    "\n",
    "lg_score = lg_clf.score(X_test, y_test)\n",
    "print (\"Accuracy lg: %s\" % lg_score)\n",
    "\n",
    "\n",
    "lgclf = LinearRegression()\n",
    "\n",
    "vect = TfidfVectorizer(stop_words=stopwords.words('english') + list(string.punctuation))\n",
    "X_train = vect.fit_transform(X_train)\n",
    "X_test = vect.transform(X_test)\n",
    "\n",
    "lgclf.fit(X_train, y_train)\n",
    "lg_score = lgclf.score(X_test, y_test)\n",
    "\n",
    "print (\"Accuracy lg: %s\" % lg_score)"
   ]
  },
  {
   "cell_type": "code",
   "execution_count": 45,
   "metadata": {},
   "outputs": [],
   "source": [
    "feature_vect = clf.named_steps['vectorizer'].vocabulary_\n",
    "\n",
    "sorted_feature_vect_highest = sorted(feature_vect.items(), key=lambda t: t[1], reverse=True)[:20]\n",
    "sorted_feature_vect_words_highest = [items[0] for items in sorted_feature_vect_highest]\n",
    "sorted_feature_vect_frequencies_highest = [items[1] for items in sorted_feature_vect_highest]\n",
    "\n",
    "sorted_feature_vect_lowest = sorted(feature_vect.items(), key=lambda t: t[1], reverse=True)[-20:]\n",
    "sorted_feature_vect_words_lowest = [items[0] for items in sorted_feature_vect_lowest]\n",
    "sorted_feature_vect_frequencies_lowest = [items[1] for items in sorted_feature_vect_lowest]"
   ]
  },
  {
   "cell_type": "code",
   "execution_count": 46,
   "metadata": {},
   "outputs": [
    {
     "name": "stderr",
     "output_type": "stream",
     "text": [
      "/home/ano/datalytics/lib/python3.6/site-packages/plotly/graph_objs/_deprecations.py:318: DeprecationWarning:\n",
      "\n",
      "plotly.graph_objs.Font is deprecated.\n",
      "Please replace it with one of the following more specific types\n",
      "  - plotly.graph_objs.layout.Font\n",
      "  - plotly.graph_objs.layout.hoverlabel.Font\n",
      "  - etc.\n",
      "\n",
      "\n"
     ]
    },
    {
     "name": "stdout",
     "output_type": "stream",
     "text": [
      "This is the format of your plot grid:\n",
      "[ (1,1) x1,y1 ]  [ (1,2) x2,y2 ]\n",
      "\n"
     ]
    },
    {
     "data": {
      "text/html": [
       "<iframe id=\"igraph\" scrolling=\"no\" style=\"border:none;\" seamless=\"seamless\" src=\"https://plot.ly/~shresthamanjil21/10.embed\" height=\"600px\" width=\"1300px\"></iframe>"
      ],
      "text/plain": [
       "<plotly.tools.PlotlyDisplay object>"
      ]
     },
     "execution_count": 46,
     "metadata": {},
     "output_type": "execute_result"
    }
   ],
   "source": [
    "fig1 = go.Bar(x=sorted_feature_vect_words_highest, y = sorted_feature_vect_frequencies_highest)\n",
    "fig2 = go.Bar(x = sorted_feature_vect_words_lowest, y = sorted_feature_vect_frequencies_lowest)\n",
    "\n",
    "fig = tools.make_subplots(rows=1, cols=2, subplot_titles=('Highest frequencies', 'Lowest frequencies'))\n",
    "\n",
    "fig.append_trace(fig1, 1, 1)\n",
    "fig.append_trace(fig2, 1, 2)\n",
    "\n",
    "fig['layout'].update(height=600, width=1300, title='Highest & Lowest frequencies word!')\n",
    "\n",
    "py.iplot(fig, filename='highest-lowest-frequency-word')"
   ]
  },
  {
   "cell_type": "code",
   "execution_count": 47,
   "metadata": {},
   "outputs": [],
   "source": [
    "preds = clf.predict(test_datas.Phrase)"
   ]
  },
  {
   "cell_type": "code",
   "execution_count": 48,
   "metadata": {},
   "outputs": [],
   "source": [
    "neg_pred = np.count_nonzero(preds == 0)\n",
    "somewhat_pos_pred = np.count_nonzero(preds == 1)\n",
    "neut_pred = np.count_nonzero(preds == 2)\n",
    "somewhat_neg_pred = np.count_nonzero(preds == 3)\n",
    "pos_pred = np.count_nonzero(preds == 4)"
   ]
  },
  {
   "cell_type": "code",
   "execution_count": 49,
   "metadata": {},
   "outputs": [],
   "source": [
    "labels = ['Positive', 'Negative', 'Somewhat Positive', 'Somewhat NEgative', 'Neutral']\n",
    "values = [pos_pred, neg_pred, somewhat_pos_pred, somewhat_neg_pred, neut_pred]\n",
    "colors = ['#FEBFB3', '#E1396C', '#96D38C', '#67c29d', '#f6f3h1']"
   ]
  },
  {
   "cell_type": "code",
   "execution_count": 50,
   "metadata": {},
   "outputs": [
    {
     "name": "stdout",
     "output_type": "stream",
     "text": [
      "High five! You successfully sent some data to your account on plotly. View your plot in your browser at https://plot.ly/~shresthamanjil21/0 or inside your plot.ly account where it is named 'styled_pie_chart'\n"
     ]
    },
    {
     "data": {
      "text/html": [
       "<iframe id=\"igraph\" scrolling=\"no\" style=\"border:none;\" seamless=\"seamless\" src=\"https://plot.ly/~shresthamanjil21/0.embed\" height=\"525px\" width=\"100%\"></iframe>"
      ],
      "text/plain": [
       "<plotly.tools.PlotlyDisplay object>"
      ]
     },
     "execution_count": 50,
     "metadata": {},
     "output_type": "execute_result"
    }
   ],
   "source": [
    "trace = go.Pie(\n",
    "            labels=labels, values=values,\n",
    "            hoverinfo='label+percent', textinfo='value', \n",
    "            textfont=dict(size=20),\n",
    "            marker=dict(colors=colors, \n",
    "            line=dict(color='#000000', width=2))\n",
    "        )\n",
    "py.iplot([trace], filename='styled_pie_chart')"
   ]
  },
  {
   "cell_type": "code",
   "execution_count": 51,
   "metadata": {},
   "outputs": [
    {
     "data": {
      "text/html": [
       "<iframe id=\"igraph\" scrolling=\"no\" style=\"border:none;\" seamless=\"seamless\" src=\"https://plot.ly/~shresthamanjil21/12.embed\" height=\"525px\" width=\"100%\"></iframe>"
      ],
      "text/plain": [
       "<plotly.tools.PlotlyDisplay object>"
      ]
     },
     "execution_count": 51,
     "metadata": {},
     "output_type": "execute_result"
    }
   ],
   "source": [
    "labels = ['Naive Bayes', 'Linear Regression']\n",
    "values = [nb_score, lg_score]\n",
    "colors = ['#FEBFB3', '#E1396C']\n",
    "\n",
    "trace = go.Pie(\n",
    "            labels=labels, values=values,\n",
    "            hoverinfo='label+percent', textinfo='value', \n",
    "            textfont=dict(size=20),\n",
    "            marker=dict(colors=colors, \n",
    "            line=dict(color='#000000', width=2))\n",
    "        )\n",
    "py.iplot([trace], filename='algorithm comparison')"
   ]
  },
  {
   "cell_type": "code",
   "execution_count": null,
   "metadata": {},
   "outputs": [],
   "source": []
  }
 ],
 "metadata": {
  "kernelspec": {
   "display_name": "Python 3",
   "language": "python",
   "name": "python3"
  },
  "language_info": {
   "codemirror_mode": {
    "name": "ipython",
    "version": 3
   },
   "file_extension": ".py",
   "mimetype": "text/x-python",
   "name": "python",
   "nbconvert_exporter": "python",
   "pygments_lexer": "ipython3",
   "version": "3.6.5"
  }
 },
 "nbformat": 4,
 "nbformat_minor": 2
}
